{
  "nbformat": 4,
  "nbformat_minor": 0,
  "metadata": {
    "colab": {
      "provenance": []
    },
    "kernelspec": {
      "name": "python3",
      "display_name": "Python 3"
    },
    "language_info": {
      "name": "python"
    }
  },
  "cells": [
    {
      "cell_type": "code",
      "source": [
        "from google.colab import drive\n",
        "drive.mount('/content/drive')"
      ],
      "metadata": {
        "colab": {
          "base_uri": "https://localhost:8080/"
        },
        "id": "Bvgy46GcWofC",
        "outputId": "5be1610d-ca3d-4cc8-d96e-22d405872c56"
      },
      "execution_count": 1,
      "outputs": [
        {
          "output_type": "stream",
          "name": "stdout",
          "text": [
            "Mounted at /content/drive\n"
          ]
        }
      ]
    },
    {
      "cell_type": "code",
      "source": [
        "!pip install html_table_parser"
      ],
      "metadata": {
        "id": "C4uSmsTEXc5q"
      },
      "execution_count": null,
      "outputs": []
    },
    {
      "cell_type": "code",
      "source": [
        "!pip install --upgrade beautifulsoup4"
      ],
      "metadata": {
        "id": "i2LAshEBZD9_"
      },
      "execution_count": null,
      "outputs": []
    },
    {
      "cell_type": "code",
      "source": [
        "!pip install --upgrade html5lib"
      ],
      "metadata": {
        "id": "Ey-ykAnAZSBT"
      },
      "execution_count": null,
      "outputs": []
    },
    {
      "cell_type": "code",
      "source": [
        "import pandas as pd\n",
        "import requests\n",
        "from bs4 import BeautifulSoup as bs\n",
        "from html_table_parser import parser_functions\n",
        "\n",
        "regions = [\"경상북도\", \"경상남도\", \"충청북도\", \"충청남도\", \"세종특별자치시\", \"대전광역시\", \"대구광역시\", \"전라북도\", \"전라남도\", \"광주광역시\", \"울산광역시\", \"부산광역시\", \"제주특별자치도\"]\n",
        "for region in regions:\n",
        "  url = \"http://new.pck.or.kr/address.php?flag=churchAddress&sch={}\".format(region)\n",
        "  request = requests.get(url)\n",
        "  soup = bs(request.text, 'html.parser')\n",
        "  data = soup.find(\"a\", {'class' : 'pg_page pg_end'})\n",
        "  pgNum = data['href'].split('=')[-1]\n",
        "  mdf = pd.DataFrame()\n",
        "  for i in range(1, int(pgNum) + 1):\n",
        "    print(i)\n",
        "    url2 = url+ \"&page=\" + str(i)\n",
        "    request2 = requests.get(url2)\n",
        "    soup2 = bs(request2.text, 'html.parser')\n",
        "    data = soup2.find(\"table\")\n",
        "    table = parser_functions.make2d(data)\n",
        "\n",
        "    df = pd.DataFrame(table[1:], columns = table[0])\n",
        "    mdf = pd.concat([mdf, df])\n",
        "  mdf.to_excel(\"./{}.xlsx\".format(region))"
      ],
      "metadata": {
        "id": "CJsYZOldXc_U"
      },
      "execution_count": null,
      "outputs": []
    },
    {
      "cell_type": "code",
      "source": [],
      "metadata": {
        "id": "_TOQxzFbYVOQ"
      },
      "execution_count": null,
      "outputs": []
    }
  ]
}